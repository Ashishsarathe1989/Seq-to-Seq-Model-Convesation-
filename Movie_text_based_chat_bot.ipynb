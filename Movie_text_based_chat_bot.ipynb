{
 "cells": [
  {
   "cell_type": "code",
   "execution_count": 1,
   "metadata": {
    "execution": {
     "iopub.execute_input": "2022-07-04T10:15:46.279414Z",
     "iopub.status.busy": "2022-07-04T10:15:46.278478Z",
     "iopub.status.idle": "2022-07-04T10:15:46.287971Z",
     "shell.execute_reply": "2022-07-04T10:15:46.286918Z",
     "shell.execute_reply.started": "2022-07-04T10:15:46.279379Z"
    },
    "id": "o1pTyWKRzdRC"
   },
   "outputs": [],
   "source": [
    "import numpy as np\n",
    "import pandas as pd\n",
    "import tensorflow as tf\n",
    "from tensorflow import keras\n",
    "from tensorflow.keras.preprocessing.text import Tokenizer\n",
    "from tensorflow.keras.preprocessing.sequence import pad_sequences\n",
    "from tensorflow import keras\n",
    "from tensorflow.keras import layers\n",
    "from tensorflow.keras.models import Sequential,Model,load_model\n",
    "from tensorflow.keras.layers import Activation, Dropout, Flatten, Dense,InputLayer,Embedding,Conv1D,MaxPooling1D,Input,LSTM,BatchNormalization,Bidirectional\n",
    "from tensorflow.keras.callbacks import ModelCheckpoint\n",
    "from tensorflow.keras.callbacks import EarlyStopping,Callback\n",
    "import re\n",
    "import time"
   ]
  },
  {
   "cell_type": "code",
   "execution_count": 2,
   "metadata": {
    "colab": {
     "base_uri": "https://localhost:8080/"
    },
    "id": "qtqMKyNATIwj",
    "outputId": "78416af9-32ac-471f-d7d3-3c72ac5d0923"
   },
   "outputs": [
    {
     "name": "stdout",
     "output_type": "stream",
     "text": [
      "Mounted at /content/drive\n"
     ]
    }
   ],
   "source": [
    "#Mounting Drive\n",
    "from google.colab import drive\n",
    "drive.mount('/content/drive')"
   ]
  },
  {
   "cell_type": "code",
   "execution_count": 3,
   "metadata": {
    "colab": {
     "base_uri": "https://localhost:8080/"
    },
    "execution": {
     "iopub.execute_input": "2022-07-04T10:15:46.327279Z",
     "iopub.status.busy": "2022-07-04T10:15:46.327014Z",
     "iopub.status.idle": "2022-07-04T10:15:46.513266Z",
     "shell.execute_reply": "2022-07-04T10:15:46.512156Z",
     "shell.execute_reply.started": "2022-07-04T10:15:46.327255Z"
    },
    "id": "hLN4yiC0YMjc",
    "outputId": "daa9d430-ecbd-4bf8-e887-e5682bb3ad12"
   },
   "outputs": [
    {
     "name": "stdout",
     "output_type": "stream",
     "text": [
      "<class 'list'>\n",
      "L1045 +++$+++ u0 +++$+++ m0 +++$+++ BIANCA +++$+++ They do not!\n",
      "**************************************************\n",
      "u0 +++$+++ u2 +++$+++ m0 +++$+++ ['L194', 'L195', 'L196', 'L197']\n"
     ]
    }
   ],
   "source": [
    "#Load and read data\n",
    "#https://datascienceparichay.com/article/python-split-string-by-newline-character/#:~:text=You%20can%20use%20the%20Python,to%20the%20split()%20function.\n",
    "lines=open(\"/content/drive/MyDrive/movie_lines.txt\",encoding=\"utf-8\",errors=\"ignore\").read().split('\\n')\n",
    "Conversations=open(\"/content/drive/MyDrive/movie_conversations.txt\",encoding=\"utf-8\",errors=\"ignore\").read().split('\\n')\n",
    "Conversations\n",
    "print(type(lines))\n",
    "print(lines[0])\n",
    "print(\"*\"*50)\n",
    "print(Conversations[0])"
   ]
  },
  {
   "cell_type": "code",
   "execution_count": 4,
   "metadata": {
    "execution": {
     "iopub.execute_input": "2022-07-04T10:15:46.515986Z",
     "iopub.status.busy": "2022-07-04T10:15:46.515311Z",
     "iopub.status.idle": "2022-07-04T10:15:46.848524Z",
     "shell.execute_reply": "2022-07-04T10:15:46.847382Z",
     "shell.execute_reply.started": "2022-07-04T10:15:46.515941Z"
    },
    "id": "N5zRZOkTewy3"
   },
   "outputs": [],
   "source": [
    "#create dictonary that map each line to ids\n",
    "linetoides={}\n",
    "for k in lines:\n",
    "  line=k.split('+++$+++')  #we will get  e.g. ['L1045 ', ' u0 ', ' m0 ', ' BIANCA ', ' They do not!']\n",
    "  linetoides[line[0].replace(\" \",'')]=line[-1]"
   ]
  },
  {
   "cell_type": "code",
   "execution_count": 5,
   "metadata": {
    "execution": {
     "iopub.execute_input": "2022-07-04T10:15:46.850418Z",
     "iopub.status.busy": "2022-07-04T10:15:46.850071Z",
     "iopub.status.idle": "2022-07-04T10:15:47.057142Z",
     "shell.execute_reply": "2022-07-04T10:15:47.056060Z",
     "shell.execute_reply.started": "2022-07-04T10:15:46.850384Z"
    },
    "id": "KY5hnG36lUJo"
   },
   "outputs": [],
   "source": [
    "#creating list of allconversation \n",
    "Conversation_ids=[]\n",
    "for Conversation  in Conversations:\n",
    "    _Conversation=Conversation.split('+++$+++')[-1][3:-1].replace(\"'\",'').replace(\" \",'')\n",
    "    Conversation_ids.append(_Conversation.split(\",\"))"
   ]
  },
  {
   "cell_type": "code",
   "execution_count": null,
   "metadata": {
    "execution": {
     "iopub.execute_input": "2022-07-04T10:15:47.060452Z",
     "iopub.status.busy": "2022-07-04T10:15:47.059968Z",
     "iopub.status.idle": "2022-07-04T10:15:47.070969Z",
     "shell.execute_reply": "2022-07-04T10:15:47.069686Z",
     "shell.execute_reply.started": "2022-07-04T10:15:47.060405Z"
    },
    "id": "i1kMLgTMQJXn"
   },
   "outputs": [],
   "source": [
    "Conversation_ids[0]"
   ]
  },
  {
   "cell_type": "code",
   "execution_count": 6,
   "metadata": {
    "execution": {
     "iopub.execute_input": "2022-07-04T10:15:47.073570Z",
     "iopub.status.busy": "2022-07-04T10:15:47.072600Z",
     "iopub.status.idle": "2022-07-04T10:15:47.332173Z",
     "shell.execute_reply": "2022-07-04T10:15:47.331206Z",
     "shell.execute_reply.started": "2022-07-04T10:15:47.073534Z"
    },
    "id": "QoCb0r1cQM2w"
   },
   "outputs": [],
   "source": [
    "#Seprate Question and answer\n",
    "#['L194', 'L195', 'L196', 'L197'] here firt element L194 will be question and 2nd L195 will be answer  same like 'L196' is quesion and 'L197' is answer\n",
    "question=[]\n",
    "answer=[]\n",
    "\n",
    "for res in Conversation_ids:\n",
    "  for k in range(len(res)-1):\n",
    "    question.append(linetoides[res[k]])\n",
    "    answer.append(linetoides[res[k+1]])\n",
    "   "
   ]
  },
  {
   "cell_type": "code",
   "execution_count": null,
   "metadata": {
    "execution": {
     "iopub.execute_input": "2022-07-04T10:15:47.334198Z",
     "iopub.status.busy": "2022-07-04T10:15:47.333603Z",
     "iopub.status.idle": "2022-07-04T10:15:47.340244Z",
     "shell.execute_reply": "2022-07-04T10:15:47.339318Z",
     "shell.execute_reply.started": "2022-07-04T10:15:47.334159Z"
    },
    "id": "Fj9G4u3IkWvI"
   },
   "outputs": [],
   "source": [
    "print(question[2],answer[2])"
   ]
  },
  {
   "cell_type": "markdown",
   "metadata": {
    "id": "bTYPGEbfFuKj"
   },
   "source": [
    "###Preprocessing for Seq2Seq\n",
    "\n",
    "Please put this information on your mind, let’s start to talk about preprocessing. The whole process could be broken down into 8steps:\n",
    "\n",
    "1. Text Cleaning\n",
    "2. Make Vocabulary (VOCAB_SIZE)\n",
    "3. Split Data for training and validation, testing\n",
    "4. Create Encoder_input,Decoder _input with '<start.>' and Decoder_output with <end.>\n",
    "5. Tokenize Bag of words to Bag of IDs\n",
    "6. Padding (MAX_LEN)\n",
    "7. Word Embedding (EMBEDDING_DIM)\n",
    "8. Reshape the Data depends on neural network shape\n",
    "\n"
   ]
  },
  {
   "cell_type": "markdown",
   "metadata": {
    "id": "jSFBNvcHFku5"
   },
   "source": [
    "###1. Text Cleaning "
   ]
  },
  {
   "cell_type": "code",
   "execution_count": 7,
   "metadata": {
    "execution": {
     "iopub.execute_input": "2022-07-04T10:15:47.342363Z",
     "iopub.status.busy": "2022-07-04T10:15:47.341925Z",
     "iopub.status.idle": "2022-07-04T10:15:47.371931Z",
     "shell.execute_reply": "2022-07-04T10:15:47.370781Z",
     "shell.execute_reply.started": "2022-07-04T10:15:47.342327Z"
    },
    "id": "ho2zOK7XSe16"
   },
   "outputs": [],
   "source": [
    "CONTRACTION_MAP = {\n",
    "\"ain't\": \"is not\",\n",
    "\"aren't\": \"are not\",\n",
    "\"can't\": \"cannot\",\n",
    "\"can't've\": \"cannot have\",\n",
    "\"'cause\": \"because\",\n",
    "\"could've\": \"could have\",\n",
    "\"couldn't\": \"could not\",\n",
    "\"couldn't've\": \"could not have\",\n",
    "\"didn't\": \"did not\",\n",
    "\"doesn't\": \"does not\",\n",
    "\"don't\": \"do not\",\n",
    "\"hadn't\": \"had not\",\n",
    "\"hadn't've\": \"had not have\",\n",
    "\"hasn't\": \"has not\",\n",
    "\"haven't\": \"have not\",\n",
    "\"he'd\": \"he would\",\n",
    "\"he'd've\": \"he would have\",\n",
    "\"he'll\": \"he will\",\n",
    "\"he'll've\": \"he he will have\",\n",
    "\"he's\": \"he is\",\n",
    "\"how'd\": \"how did\",\n",
    "\"how'd'y\": \"how do you\",\n",
    "\"how'll\": \"how will\",\n",
    "\"how's\": \"how is\",\n",
    "\"I'd\": \"I would\",\n",
    "\"I'd've\": \"I would have\",\n",
    "\"I'll\": \"I will\",\n",
    "\"I'll've\": \"I will have\",\n",
    "\"I'm\": \"I am\",\n",
    "\"I've\": \"I have\",\n",
    "\"i'd\": \"i would\",\n",
    "\"i'd've\": \"i would have\",\n",
    "\"i'll\": \"i will\",\n",
    "\"i'll've\": \"i will have\",\n",
    "\"i'm\": \"i am\",\n",
    "\"i've\": \"i have\",\n",
    "\"isn't\": \"is not\",\n",
    "\"it'd\": \"it would\",\n",
    "\"it'd've\": \"it would have\",\n",
    "\"it'll\": \"it will\",\n",
    "\"it'll've\": \"it will have\",\n",
    "\"it's\": \"it is\",\n",
    "\"let's\": \"let us\",\n",
    "\"ma'am\": \"madam\",\n",
    "\"mayn't\": \"may not\",\n",
    "\"might've\": \"might have\",\n",
    "\"mightn't\": \"might not\",\n",
    "\"mightn't've\": \"might not have\",\n",
    "\"must've\": \"must have\",\n",
    "\"mustn't\": \"must not\",\n",
    "\"mustn't've\": \"must not have\",\n",
    "\"needn't\": \"need not\",\n",
    "\"needn't've\": \"need not have\",\n",
    "\"o'clock\": \"of the clock\",\n",
    "\"oughtn't\": \"ought not\",\n",
    "\"oughtn't've\": \"ought not have\",\n",
    "\"shan't\": \"shall not\",\n",
    "\"sha'n't\": \"shall not\",\n",
    "\"shan't've\": \"shall not have\",\n",
    "\"she'd\": \"she would\",\n",
    "\"she'd've\": \"she would have\",\n",
    "\"she'll\": \"she will\",\n",
    "\"she'll've\": \"she will have\",\n",
    "\"she's\": \"she is\",\n",
    "\"should've\": \"should have\",\n",
    "\"shouldn't\": \"should not\",\n",
    "\"shouldn't've\": \"should not have\",\n",
    "\"so've\": \"so have\",\n",
    "\"so's\": \"so as\",\n",
    "\"that'd\": \"that would\",\n",
    "\"that'd've\": \"that would have\",\n",
    "\"that's\": \"that is\",\n",
    "\"there'd\": \"there would\",\n",
    "\"there'd've\": \"there would have\",\n",
    "\"there's\": \"there is\",\n",
    "\"they'd\": \"they would\",\n",
    "\"they'd've\": \"they would have\",\n",
    "\"they'll\": \"they will\",\n",
    "\"they'll've\": \"they will have\",\n",
    "\"they're\": \"they are\",\n",
    "\"they've\": \"they have\",\n",
    "\"to've\": \"to have\",\n",
    "\"wasn't\": \"was not\",\n",
    "\"we'd\": \"we would\",\n",
    "\"we'd've\": \"we would have\",\n",
    "\"we'll\": \"we will\",\n",
    "\"we'll've\": \"we will have\",\n",
    "\"we're\": \"we are\",\n",
    "\"we've\": \"we have\",\n",
    "\"weren't\": \"were not\",\n",
    "\"what'll\": \"what will\",\n",
    "\"what'll've\": \"what will have\",\n",
    "\"what're\": \"what are\",\n",
    "\"what's\": \"what is\",\n",
    "\"what've\": \"what have\",\n",
    "\"when's\": \"when is\",\n",
    "\"when've\": \"when have\",\n",
    "\"where'd\": \"where did\",\n",
    "\"where's\": \"where is\",\n",
    "\"where've\": \"where have\",\n",
    "\"who'll\": \"who will\",\n",
    "\"who'll've\": \"who will have\",\n",
    "\"who's\": \"who is\",\n",
    "\"who've\": \"who have\",\n",
    "\"why's\": \"why is\",\n",
    "\"why've\": \"why have\",\n",
    "\"will've\": \"will have\",\n",
    "\"won't\": \"will not\",\n",
    "\"won't've\": \"will not have\",\n",
    "\"would've\": \"would have\",\n",
    "\"wouldn't\": \"would not\",\n",
    "\"wouldn't've\": \"would not have\",\n",
    "\"y'all\": \"you all\",\n",
    "\"y'all'd\": \"you all would\",\n",
    "\"y'all'd've\": \"you all would have\",\n",
    "\"y'all're\": \"you all are\",\n",
    "\"y'all've\": \"you all have\",\n",
    "\"you'd\": \"you would\",\n",
    "\"you'd've\": \"you would have\",\n",
    "\"you'll\": \"you will\",\n",
    "\"you'll've\": \"you will have\",\n",
    "\"you're\": \"you are\",\n",
    "\"you've\": \"you have\"\n",
    "}"
   ]
  },
  {
   "cell_type": "code",
   "execution_count": 8,
   "metadata": {
    "execution": {
     "iopub.execute_input": "2022-07-04T10:15:47.374305Z",
     "iopub.status.busy": "2022-07-04T10:15:47.373563Z",
     "iopub.status.idle": "2022-07-04T10:15:47.385275Z",
     "shell.execute_reply": "2022-07-04T10:15:47.384369Z",
     "shell.execute_reply.started": "2022-07-04T10:15:47.374267Z"
    },
    "id": "EgDbNLi5Se19"
   },
   "outputs": [],
   "source": [
    "def decontracted(text):\n",
    "    '''this function will Replace all apostrophe/short words from text data'''\n",
    "    for word in text.split():\n",
    "        if word.lower() in CONTRACTION_MAP:\n",
    "            text = text.replace(word, CONTRACTION_MAP[word.lower()])\n",
    "    return text"
   ]
  },
  {
   "cell_type": "code",
   "execution_count": 9,
   "metadata": {
    "execution": {
     "iopub.execute_input": "2022-07-04T10:15:47.389124Z",
     "iopub.status.busy": "2022-07-04T10:15:47.387911Z",
     "iopub.status.idle": "2022-07-04T10:15:47.401057Z",
     "shell.execute_reply": "2022-07-04T10:15:47.400104Z",
     "shell.execute_reply.started": "2022-07-04T10:15:47.389064Z"
    },
    "id": "ArxS5tsMkyiQ"
   },
   "outputs": [],
   "source": [
    "def clean_text(text):\n",
    "    '''Clean text by removing unnecessary characters and altering the format of words.'''\n",
    "\n",
    "    text = text.lower()\n",
    "    \n",
    "    text = re.sub(r\"i'm\", \"i am\", text)\n",
    "    text = re.sub(r\"he's\", \"he is\", text)\n",
    "    text = re.sub(r\"she's\", \"she is\", text)\n",
    "    text = re.sub(r\"it's\", \"it is\", text)\n",
    "    text = re.sub(r\"that's\", \"that is\", text)\n",
    "    text = re.sub(r\"what's\", \"that is\", text)\n",
    "    text = re.sub(r\"where's\", \"where is\", text)\n",
    "    text = re.sub(r\"how's\", \"how is\", text)\n",
    "    text = re.sub(r\"\\'ll\", \" will\", text)\n",
    "    text = re.sub(r\"\\'ve\", \" have\", text)\n",
    "    text = re.sub(r\"\\'re\", \" are\", text)\n",
    "    text = re.sub(r\"\\'d\", \" would\", text)\n",
    "    text = re.sub(r\"\\'re\", \" are\", text)\n",
    "    text = re.sub(r\"won't\", \"will not\", text)\n",
    "    text = re.sub(r\"can't\", \"cannot\", text)\n",
    "    text = re.sub(r\"n't\", \" not\", text)\n",
    "    text = re.sub(r\"n'\", \"ng\", text)\n",
    "    text = re.sub(r\"'bout\", \"about\", text)\n",
    "    text = re.sub(r\"'til\", \"until\", text)\n",
    "    text=text.lower()\n",
    "    text = re.sub(r'\\.+', \".\", text) #Replace multiple fullstops with single fullstop\n",
    "\n",
    "    text = re.sub(r\"[^a-zA-Z?.!,']+\", \" \", text)# replacing everything with space except (a-z, \".\", \"?\", \"!\", \",\", \"'\")\n",
    "\n",
    "    # Compact spaces\n",
    "    text = re.sub(r'[\" \"]+', \" \", text)\n",
    "\n",
    "    final_text = text.strip()\n",
    "    \n",
    "    return text"
   ]
  },
  {
   "cell_type": "code",
   "execution_count": 10,
   "metadata": {
    "colab": {
     "base_uri": "https://localhost:8080/"
    },
    "execution": {
     "iopub.execute_input": "2022-07-04T10:15:47.406275Z",
     "iopub.status.busy": "2022-07-04T10:15:47.405610Z",
     "iopub.status.idle": "2022-07-04T10:16:05.163996Z",
     "shell.execute_reply": "2022-07-04T10:16:05.162942Z",
     "shell.execute_reply.started": "2022-07-04T10:15:47.406244Z"
    },
    "id": "VX3-HPo9GGSA",
    "outputId": "2d6f35f5-8302-4090-df13-f81507dede17"
   },
   "outputs": [
    {
     "name": "stderr",
     "output_type": "stream",
     "text": [
      "100%|██████████| 221616/221616 [00:07<00:00, 29357.32it/s]\n",
      "100%|██████████| 221616/221616 [00:06<00:00, 33286.68it/s]\n"
     ]
    }
   ],
   "source": [
    "from tqdm import tqdm\n",
    "Clean_question=[] #Clean question\n",
    "for text in tqdm(question):\n",
    "  Clean_question.append(clean_text(text))\n",
    "\n",
    "Clean_answer=[] #Clean ansewer\n",
    "for texts in tqdm(answer):\n",
    "  Clean_answer.append(clean_text(texts))"
   ]
  },
  {
   "cell_type": "code",
   "execution_count": null,
   "metadata": {
    "colab": {
     "base_uri": "https://localhost:8080/"
    },
    "execution": {
     "iopub.execute_input": "2022-07-04T10:16:05.165861Z",
     "iopub.status.busy": "2022-07-04T10:16:05.165399Z",
     "iopub.status.idle": "2022-07-04T10:16:05.171999Z",
     "shell.execute_reply": "2022-07-04T10:16:05.170880Z",
     "shell.execute_reply.started": "2022-07-04T10:16:05.165823Z"
    },
    "id": "4Hu6EOi8JInL",
    "outputId": "fd0d26dc-dcde-4a7c-ee52-9f20ccb2ca93"
   },
   "outputs": [
    {
     "name": "stdout",
     "output_type": "stream",
     "text": [
      " not the hacking and gagging and spitting part. please.  okay. then how about we try out some french cuisine. saturday? night?\n"
     ]
    }
   ],
   "source": [
    "print(Clean_question[2],Clean_answer[2])"
   ]
  },
  {
   "cell_type": "markdown",
   "metadata": {
    "id": "iyNTGmeEZyqL"
   },
   "source": [
    "###3. Create Encoder_input,Decoder _input with '<start.>' and Decoder_output with <end.>\n"
   ]
  },
  {
   "cell_type": "code",
   "execution_count": null,
   "metadata": {
    "colab": {
     "base_uri": "https://localhost:8080/"
    },
    "execution": {
     "iopub.execute_input": "2022-07-04T10:16:05.173990Z",
     "iopub.status.busy": "2022-07-04T10:16:05.173579Z",
     "iopub.status.idle": "2022-07-04T10:16:05.184853Z",
     "shell.execute_reply": "2022-07-04T10:16:05.183835Z",
     "shell.execute_reply.started": "2022-07-04T10:16:05.173954Z"
    },
    "id": "-_rtI8fUSe2C",
    "outputId": "3c02a298-d1f2-436a-e659-0a5fd9bc56aa"
   },
   "outputs": [
    {
     "data": {
      "text/plain": [
       "[' can we make this quick? roxanne korrine and andrew barrett are having an incredibly horrendous public break up on the quad. again.',\n",
       " ' well, i thought we would start with pronunciation, if that is okay with you.',\n",
       " ' not the hacking and gagging and spitting part. please.',\n",
       " ' you are asking me out. that is so cute. that is your name again?',\n",
       " ' no, no, it is my fault we did not have a proper introduction ',\n",
       " ' cameron.']"
      ]
     },
     "execution_count": 16,
     "metadata": {},
     "output_type": "execute_result"
    }
   ],
   "source": [
    "Clean_question[:6]"
   ]
  },
  {
   "cell_type": "code",
   "execution_count": 11,
   "metadata": {
    "execution": {
     "iopub.execute_input": "2022-07-04T10:16:05.206950Z",
     "iopub.status.busy": "2022-07-04T10:16:05.206233Z",
     "iopub.status.idle": "2022-07-04T10:16:05.396963Z",
     "shell.execute_reply": "2022-07-04T10:16:05.395972Z",
     "shell.execute_reply.started": "2022-07-04T10:16:05.206914Z"
    },
    "id": "2iU_Ojf7Y0xI"
   },
   "outputs": [],
   "source": [
    "#<Start> means \"Begin of Sequence\", <END> means \"End of Sequence\".\n",
    "#Encoder_input=Clean_question\n",
    "def Decoder_input_tagg(decoder_input_sentence):\n",
    "  start = \"<start> \"\n",
    "  Decoder_input = [start + text  for text in decoder_input_sentence] \n",
    "  return Decoder_input\n",
    "\n",
    "def Decoder_Target_tagg(decoder_Target_sentence):\n",
    "  END = \" <end>\"\n",
    "  Decoder_target = [ text+END  for text in decoder_Target_sentence] \n",
    "  return Decoder_target\n",
    "\n",
    "def encoder_input(encoder_inp):\n",
    "    start = \"<start> \"\n",
    "    end=\" <end>\"\n",
    "    Decoder_input = [start + text + end for text in encoder_inp] \n",
    "    return Decoder_input\n",
    "    \n",
    "\n",
    "Decoder_inputs = Decoder_input_tagg(Clean_answer)\n",
    "Decoder_target = Decoder_Target_tagg(Clean_answer)\n",
    "Encoder_input = encoder_input(Clean_question)"
   ]
  },
  {
   "cell_type": "code",
   "execution_count": null,
   "metadata": {
    "colab": {
     "base_uri": "https://localhost:8080/"
    },
    "execution": {
     "iopub.execute_input": "2022-07-04T10:16:05.399198Z",
     "iopub.status.busy": "2022-07-04T10:16:05.398615Z",
     "iopub.status.idle": "2022-07-04T10:16:05.405614Z",
     "shell.execute_reply": "2022-07-04T10:16:05.404735Z",
     "shell.execute_reply.started": "2022-07-04T10:16:05.399161Z"
    },
    "id": "3i-UtAwZSe2F",
    "outputId": "86251322-58ea-434e-c8d6-86890c2bc2e0"
   },
   "outputs": [
    {
     "data": {
      "text/plain": [
       "['<start>  can we make this quick? roxanne korrine and andrew barrett are having an incredibly horrendous public break up on the quad. again. <end>',\n",
       " '<start>  well, i thought we would start with pronunciation, if that is okay with you. <end>']"
      ]
     },
     "execution_count": 19,
     "metadata": {},
     "output_type": "execute_result"
    }
   ],
   "source": [
    "Encoder_input[:2]"
   ]
  },
  {
   "cell_type": "code",
   "execution_count": 12,
   "metadata": {
    "colab": {
     "base_uri": "https://localhost:8080/",
     "height": 363
    },
    "execution": {
     "iopub.execute_input": "2022-07-04T10:16:05.407840Z",
     "iopub.status.busy": "2022-07-04T10:16:05.407072Z",
     "iopub.status.idle": "2022-07-04T10:16:05.602615Z",
     "shell.execute_reply": "2022-07-04T10:16:05.601596Z",
     "shell.execute_reply.started": "2022-07-04T10:16:05.407790Z"
    },
    "id": "B3rKW3ekH7MT",
    "outputId": "a04a68b4-6bdc-4862-efc3-619d2b06645d"
   },
   "outputs": [
    {
     "data": {
      "text/html": [
       "\n",
       "  <div id=\"df-dd393015-66a9-4282-bc53-0220c5810c69\">\n",
       "    <div class=\"colab-df-container\">\n",
       "      <div>\n",
       "<style scoped>\n",
       "    .dataframe tbody tr th:only-of-type {\n",
       "        vertical-align: middle;\n",
       "    }\n",
       "\n",
       "    .dataframe tbody tr th {\n",
       "        vertical-align: top;\n",
       "    }\n",
       "\n",
       "    .dataframe thead th {\n",
       "        text-align: right;\n",
       "    }\n",
       "</style>\n",
       "<table border=\"1\" class=\"dataframe\">\n",
       "  <thead>\n",
       "    <tr style=\"text-align: right;\">\n",
       "      <th></th>\n",
       "      <th>Encoder_input</th>\n",
       "      <th>Decoder_inputs</th>\n",
       "      <th>Decoder_output</th>\n",
       "    </tr>\n",
       "  </thead>\n",
       "  <tbody>\n",
       "    <tr>\n",
       "      <th>0</th>\n",
       "      <td>&lt;start&gt;  can we make this quick? roxanne korri...</td>\n",
       "      <td>&lt;start&gt;  well, i thought we would start with p...</td>\n",
       "      <td>well, i thought we would start with pronuncia...</td>\n",
       "    </tr>\n",
       "    <tr>\n",
       "      <th>1</th>\n",
       "      <td>&lt;start&gt;  well, i thought we would start with p...</td>\n",
       "      <td>&lt;start&gt;  not the hacking and gagging and spitt...</td>\n",
       "      <td>not the hacking and gagging and spitting part...</td>\n",
       "    </tr>\n",
       "    <tr>\n",
       "      <th>2</th>\n",
       "      <td>&lt;start&gt;  not the hacking and gagging and spitt...</td>\n",
       "      <td>&lt;start&gt;  okay. then how about we try out some ...</td>\n",
       "      <td>okay. then how about we try out some french c...</td>\n",
       "    </tr>\n",
       "    <tr>\n",
       "      <th>3</th>\n",
       "      <td>&lt;start&gt;  you are asking me out. that is so cut...</td>\n",
       "      <td>&lt;start&gt;  forget it.</td>\n",
       "      <td>forget it. &lt;end&gt;</td>\n",
       "    </tr>\n",
       "    <tr>\n",
       "      <th>4</th>\n",
       "      <td>&lt;start&gt;  no, no, it is my fault we did not hav...</td>\n",
       "      <td>&lt;start&gt;  cameron.</td>\n",
       "      <td>cameron. &lt;end&gt;</td>\n",
       "    </tr>\n",
       "    <tr>\n",
       "      <th>5</th>\n",
       "      <td>&lt;start&gt;  cameron. &lt;end&gt;</td>\n",
       "      <td>&lt;start&gt;  the thing is, cameron i am at the mer...</td>\n",
       "      <td>the thing is, cameron i am at the mercy of a ...</td>\n",
       "    </tr>\n",
       "    <tr>\n",
       "      <th>6</th>\n",
       "      <td>&lt;start&gt;  the thing is, cameron i am at the mer...</td>\n",
       "      <td>&lt;start&gt;  seems like she could get a date easy ...</td>\n",
       "      <td>seems like she could get a date easy enough. ...</td>\n",
       "    </tr>\n",
       "    <tr>\n",
       "      <th>7</th>\n",
       "      <td>&lt;start&gt;  why? &lt;end&gt;</td>\n",
       "      <td>&lt;start&gt;  unsolved mystery. she used to be real...</td>\n",
       "      <td>unsolved mystery. she used to be really popul...</td>\n",
       "    </tr>\n",
       "    <tr>\n",
       "      <th>8</th>\n",
       "      <td>&lt;start&gt;  unsolved mystery. she used to be real...</td>\n",
       "      <td>&lt;start&gt;  that is a shame.</td>\n",
       "      <td>that is a shame. &lt;end&gt;</td>\n",
       "    </tr>\n",
       "    <tr>\n",
       "      <th>9</th>\n",
       "      <td>&lt;start&gt;  gosh, if only we could find kat a boy...</td>\n",
       "      <td>&lt;start&gt;  let me see what i can do.</td>\n",
       "      <td>let me see what i can do. &lt;end&gt;</td>\n",
       "    </tr>\n",
       "  </tbody>\n",
       "</table>\n",
       "</div>\n",
       "      <button class=\"colab-df-convert\" onclick=\"convertToInteractive('df-dd393015-66a9-4282-bc53-0220c5810c69')\"\n",
       "              title=\"Convert this dataframe to an interactive table.\"\n",
       "              style=\"display:none;\">\n",
       "        \n",
       "  <svg xmlns=\"http://www.w3.org/2000/svg\" height=\"24px\"viewBox=\"0 0 24 24\"\n",
       "       width=\"24px\">\n",
       "    <path d=\"M0 0h24v24H0V0z\" fill=\"none\"/>\n",
       "    <path d=\"M18.56 5.44l.94 2.06.94-2.06 2.06-.94-2.06-.94-.94-2.06-.94 2.06-2.06.94zm-11 1L8.5 8.5l.94-2.06 2.06-.94-2.06-.94L8.5 2.5l-.94 2.06-2.06.94zm10 10l.94 2.06.94-2.06 2.06-.94-2.06-.94-.94-2.06-.94 2.06-2.06.94z\"/><path d=\"M17.41 7.96l-1.37-1.37c-.4-.4-.92-.59-1.43-.59-.52 0-1.04.2-1.43.59L10.3 9.45l-7.72 7.72c-.78.78-.78 2.05 0 2.83L4 21.41c.39.39.9.59 1.41.59.51 0 1.02-.2 1.41-.59l7.78-7.78 2.81-2.81c.8-.78.8-2.07 0-2.86zM5.41 20L4 18.59l7.72-7.72 1.47 1.35L5.41 20z\"/>\n",
       "  </svg>\n",
       "      </button>\n",
       "      \n",
       "  <style>\n",
       "    .colab-df-container {\n",
       "      display:flex;\n",
       "      flex-wrap:wrap;\n",
       "      gap: 12px;\n",
       "    }\n",
       "\n",
       "    .colab-df-convert {\n",
       "      background-color: #E8F0FE;\n",
       "      border: none;\n",
       "      border-radius: 50%;\n",
       "      cursor: pointer;\n",
       "      display: none;\n",
       "      fill: #1967D2;\n",
       "      height: 32px;\n",
       "      padding: 0 0 0 0;\n",
       "      width: 32px;\n",
       "    }\n",
       "\n",
       "    .colab-df-convert:hover {\n",
       "      background-color: #E2EBFA;\n",
       "      box-shadow: 0px 1px 2px rgba(60, 64, 67, 0.3), 0px 1px 3px 1px rgba(60, 64, 67, 0.15);\n",
       "      fill: #174EA6;\n",
       "    }\n",
       "\n",
       "    [theme=dark] .colab-df-convert {\n",
       "      background-color: #3B4455;\n",
       "      fill: #D2E3FC;\n",
       "    }\n",
       "\n",
       "    [theme=dark] .colab-df-convert:hover {\n",
       "      background-color: #434B5C;\n",
       "      box-shadow: 0px 1px 3px 1px rgba(0, 0, 0, 0.15);\n",
       "      filter: drop-shadow(0px 1px 2px rgba(0, 0, 0, 0.3));\n",
       "      fill: #FFFFFF;\n",
       "    }\n",
       "  </style>\n",
       "\n",
       "      <script>\n",
       "        const buttonEl =\n",
       "          document.querySelector('#df-dd393015-66a9-4282-bc53-0220c5810c69 button.colab-df-convert');\n",
       "        buttonEl.style.display =\n",
       "          google.colab.kernel.accessAllowed ? 'block' : 'none';\n",
       "\n",
       "        async function convertToInteractive(key) {\n",
       "          const element = document.querySelector('#df-dd393015-66a9-4282-bc53-0220c5810c69');\n",
       "          const dataTable =\n",
       "            await google.colab.kernel.invokeFunction('convertToInteractive',\n",
       "                                                     [key], {});\n",
       "          if (!dataTable) return;\n",
       "\n",
       "          const docLinkHtml = 'Like what you see? Visit the ' +\n",
       "            '<a target=\"_blank\" href=https://colab.research.google.com/notebooks/data_table.ipynb>data table notebook</a>'\n",
       "            + ' to learn more about interactive tables.';\n",
       "          element.innerHTML = '';\n",
       "          dataTable['output_type'] = 'display_data';\n",
       "          await google.colab.output.renderOutput(dataTable, element);\n",
       "          const docLink = document.createElement('div');\n",
       "          docLink.innerHTML = docLinkHtml;\n",
       "          element.appendChild(docLink);\n",
       "        }\n",
       "      </script>\n",
       "    </div>\n",
       "  </div>\n",
       "  "
      ],
      "text/plain": [
       "                                       Encoder_input  \\\n",
       "0  <start>  can we make this quick? roxanne korri...   \n",
       "1  <start>  well, i thought we would start with p...   \n",
       "2  <start>  not the hacking and gagging and spitt...   \n",
       "3  <start>  you are asking me out. that is so cut...   \n",
       "4  <start>  no, no, it is my fault we did not hav...   \n",
       "5                            <start>  cameron. <end>   \n",
       "6  <start>  the thing is, cameron i am at the mer...   \n",
       "7                                <start>  why? <end>   \n",
       "8  <start>  unsolved mystery. she used to be real...   \n",
       "9  <start>  gosh, if only we could find kat a boy...   \n",
       "\n",
       "                                      Decoder_inputs  \\\n",
       "0  <start>  well, i thought we would start with p...   \n",
       "1  <start>  not the hacking and gagging and spitt...   \n",
       "2  <start>  okay. then how about we try out some ...   \n",
       "3                                <start>  forget it.   \n",
       "4                                  <start>  cameron.   \n",
       "5  <start>  the thing is, cameron i am at the mer...   \n",
       "6  <start>  seems like she could get a date easy ...   \n",
       "7  <start>  unsolved mystery. she used to be real...   \n",
       "8                          <start>  that is a shame.   \n",
       "9                 <start>  let me see what i can do.   \n",
       "\n",
       "                                      Decoder_output  \n",
       "0   well, i thought we would start with pronuncia...  \n",
       "1   not the hacking and gagging and spitting part...  \n",
       "2   okay. then how about we try out some french c...  \n",
       "3                                   forget it. <end>  \n",
       "4                                     cameron. <end>  \n",
       "5   the thing is, cameron i am at the mercy of a ...  \n",
       "6   seems like she could get a date easy enough. ...  \n",
       "7   unsolved mystery. she used to be really popul...  \n",
       "8                             that is a shame. <end>  \n",
       "9                    let me see what i can do. <end>  "
      ]
     },
     "execution_count": 12,
     "metadata": {},
     "output_type": "execute_result"
    }
   ],
   "source": [
    "df = pd.DataFrame(list(zip(Encoder_input, Decoder_inputs,Decoder_target)), columns =['Encoder_input', 'Decoder_inputs','Decoder_output']) \n",
    "df.head(10)"
   ]
  },
  {
   "cell_type": "code",
   "execution_count": null,
   "metadata": {
    "colab": {
     "base_uri": "https://localhost:8080/"
    },
    "execution": {
     "iopub.execute_input": "2022-07-04T10:16:05.605502Z",
     "iopub.status.busy": "2022-07-04T10:16:05.604494Z",
     "iopub.status.idle": "2022-07-04T10:16:05.612053Z",
     "shell.execute_reply": "2022-07-04T10:16:05.610930Z",
     "shell.execute_reply.started": "2022-07-04T10:16:05.605464Z"
    },
    "id": "yyNp1aBfSe2G",
    "outputId": "21640e92-6ff0-4500-bea9-f4710f6dba25"
   },
   "outputs": [
    {
     "data": {
      "text/plain": [
       "(221616, 3)"
      ]
     },
     "execution_count": 21,
     "metadata": {},
     "output_type": "execute_result"
    }
   ],
   "source": [
    "df.shape"
   ]
  },
  {
   "cell_type": "code",
   "execution_count": 13,
   "metadata": {
    "colab": {
     "base_uri": "https://localhost:8080/"
    },
    "execution": {
     "iopub.execute_input": "2022-07-04T10:18:09.503908Z",
     "iopub.status.busy": "2022-07-04T10:18:09.503369Z",
     "iopub.status.idle": "2022-07-04T10:18:19.520293Z",
     "shell.execute_reply": "2022-07-04T10:18:19.519152Z",
     "shell.execute_reply.started": "2022-07-04T10:18:09.503869Z"
    },
    "id": "lwUwoPTPSe2J",
    "outputId": "93e8afe4-2056-477a-ea7e-492637b249f9"
   },
   "outputs": [
    {
     "name": "stdout",
     "output_type": "stream",
     "text": [
      "CPU times: user 7.18 s, sys: 33 ms, total: 7.22 s\n",
      "Wall time: 7.23 s\n"
     ]
    }
   ],
   "source": [
    "%%time\n",
    "df['Encoder_input'] = df.apply(lambda x: decontracted(x[\"Encoder_input\"]),axis=1)\n",
    "df['Decoder_inputs'] = df.apply(lambda x: decontracted(x[\"Decoder_inputs\"]),axis=1)\n",
    "df['Decoder_output'] = df.apply(lambda x: decontracted(x[\"Decoder_output\"]),axis=1)"
   ]
  },
  {
   "cell_type": "code",
   "execution_count": 15,
   "metadata": {
    "execution": {
     "iopub.execute_input": "2022-07-04T10:18:19.626406Z",
     "iopub.status.busy": "2022-07-04T10:18:19.625648Z",
     "iopub.status.idle": "2022-07-04T10:18:19.692680Z",
     "shell.execute_reply": "2022-07-04T10:18:19.691721Z",
     "shell.execute_reply.started": "2022-07-04T10:18:19.626371Z"
    },
    "id": "84ZBv95gSe2M"
   },
   "outputs": [],
   "source": [
    "df.drop_duplicates(subset = [\"Encoder_input\",\"Decoder_inputs\",\"Decoder_output\"],inplace=True)"
   ]
  },
  {
   "cell_type": "code",
   "execution_count": 16,
   "metadata": {
    "colab": {
     "base_uri": "https://localhost:8080/"
    },
    "execution": {
     "iopub.execute_input": "2022-07-04T10:18:19.694402Z",
     "iopub.status.busy": "2022-07-04T10:18:19.693998Z",
     "iopub.status.idle": "2022-07-04T10:18:19.702239Z",
     "shell.execute_reply": "2022-07-04T10:18:19.700876Z",
     "shell.execute_reply.started": "2022-07-04T10:18:19.694363Z"
    },
    "id": "_jZPYKbSSe2N",
    "outputId": "cb5a4573-6150-4b7c-ffaf-a4bedaf56c38"
   },
   "outputs": [
    {
     "data": {
      "text/plain": [
       "(219737, 3)"
      ]
     },
     "execution_count": 16,
     "metadata": {},
     "output_type": "execute_result"
    }
   ],
   "source": [
    "df.shape"
   ]
  },
  {
   "cell_type": "code",
   "execution_count": 17,
   "metadata": {
    "execution": {
     "iopub.execute_input": "2022-07-04T10:18:19.704979Z",
     "iopub.status.busy": "2022-07-04T10:18:19.704243Z",
     "iopub.status.idle": "2022-07-04T10:18:19.729344Z",
     "shell.execute_reply": "2022-07-04T10:18:19.728462Z",
     "shell.execute_reply.started": "2022-07-04T10:18:19.704920Z"
    },
    "id": "B4RbZPgwIeB1"
   },
   "outputs": [],
   "source": [
    "from sklearn.model_selection import train_test_split\n",
    "train,test=train_test_split(df,test_size=0.15,random_state=12)"
   ]
  },
  {
   "cell_type": "code",
   "execution_count": 19,
   "metadata": {
    "colab": {
     "base_uri": "https://localhost:8080/"
    },
    "execution": {
     "iopub.execute_input": "2022-07-04T10:18:19.731581Z",
     "iopub.status.busy": "2022-07-04T10:18:19.730867Z",
     "iopub.status.idle": "2022-07-04T10:18:19.737814Z",
     "shell.execute_reply": "2022-07-04T10:18:19.736657Z",
     "shell.execute_reply.started": "2022-07-04T10:18:19.731541Z"
    },
    "id": "SBMIb5WhLgor",
    "outputId": "4d8eb7b6-4301-4b4d-badd-38855e56d966"
   },
   "outputs": [
    {
     "name": "stdout",
     "output_type": "stream",
     "text": [
      "train dataset size (186776, 3)\n",
      "test dataset size (32961, 3)\n"
     ]
    }
   ],
   "source": [
    "print(\"train dataset size {}\".format(train.shape))\n",
    "print(\"test dataset size {}\".format(test.shape))"
   ]
  },
  {
   "cell_type": "markdown",
   "metadata": {
    "id": "bGxFdhmvLyzC"
   },
   "source": [
    "###Created function to tokenize the train and test data\n"
   ]
  },
  {
   "cell_type": "code",
   "execution_count": 28,
   "metadata": {
    "execution": {
     "iopub.execute_input": "2022-07-04T10:18:19.740548Z",
     "iopub.status.busy": "2022-07-04T10:18:19.739745Z",
     "iopub.status.idle": "2022-07-04T10:18:19.747231Z",
     "shell.execute_reply": "2022-07-04T10:18:19.746336Z",
     "shell.execute_reply.started": "2022-07-04T10:18:19.740512Z"
    },
    "id": "GrEGk8gOLlHP"
   },
   "outputs": [],
   "source": [
    "def tokenization(x_train,x_test):\n",
    "    '''this functon will take input both train and test data and tokenize them'''\n",
    "    tokenizer = Tokenizer(filters='')\n",
    "    tokenizer.fit_on_texts(x_train)\n",
    "    x_train = tokenizer.texts_to_sequences(x_train)\n",
    "    x_test = tokenizer.texts_to_sequences(x_test)\n",
    "    \n",
    "    x_train = pad_sequences(x_train, padding='post',maxlen=15)\n",
    "    x_test = pad_sequences(x_test, padding='post',maxlen=15)\n",
    "    return tokenizer,x_train,x_test"
   ]
  },
  {
   "cell_type": "code",
   "execution_count": 21,
   "metadata": {
    "execution": {
     "iopub.execute_input": "2022-07-04T10:18:19.749429Z",
     "iopub.status.busy": "2022-07-04T10:18:19.749133Z",
     "iopub.status.idle": "2022-07-04T10:18:24.747606Z",
     "shell.execute_reply": "2022-07-04T10:18:24.746506Z",
     "shell.execute_reply.started": "2022-07-04T10:18:19.749393Z"
    },
    "id": "DC9txjzjMLP8"
   },
   "outputs": [],
   "source": [
    "Enc_Tokenizer,train_Encoder_input,test_Encoder_input=tokenization(train[\"Encoder_input\"],test[\"Encoder_input\"])\n",
    "Dec_Tokenizer,train_Decoder_input,test_Decoder_input=tokenization(train[\"Decoder_inputs\"],test[\"Decoder_inputs\"])\n",
    "Dec_Tokenizer_target,train_Decoder_output,test_Decoder_output=tokenization(train[\"Decoder_output\"],test[\"Decoder_output\"])"
   ]
  },
  {
   "cell_type": "code",
   "execution_count": 29,
   "metadata": {
    "colab": {
     "base_uri": "https://localhost:8080/"
    },
    "execution": {
     "iopub.execute_input": "2022-07-04T10:18:24.749922Z",
     "iopub.status.busy": "2022-07-04T10:18:24.749503Z",
     "iopub.status.idle": "2022-07-04T10:18:24.756985Z",
     "shell.execute_reply": "2022-07-04T10:18:24.755830Z",
     "shell.execute_reply.started": "2022-07-04T10:18:24.749884Z"
    },
    "id": "1btnSsg2Se2Q",
    "outputId": "26f332a1-2998-4c43-9f2d-0e0ecfa2d2e0"
   },
   "outputs": [
    {
     "name": "stdout",
     "output_type": "stream",
     "text": [
      "input vocab length 85576\n",
      "output vocab length 85596\n"
     ]
    }
   ],
   "source": [
    "input_vocab=len(Enc_Tokenizer.word_index)+1\n",
    "output_vocab=len(Dec_Tokenizer_target.word_index)+1\n",
    "print(\"input vocab length {}\".format(input_vocab))\n",
    "print(\"output vocab length {}\".format(output_vocab))"
   ]
  },
  {
   "cell_type": "code",
   "execution_count": 30,
   "metadata": {
    "colab": {
     "base_uri": "https://localhost:8080/"
    },
    "execution": {
     "iopub.execute_input": "2022-07-04T10:18:24.760106Z",
     "iopub.status.busy": "2022-07-04T10:18:24.758860Z",
     "iopub.status.idle": "2022-07-04T10:18:24.768942Z",
     "shell.execute_reply": "2022-07-04T10:18:24.767815Z",
     "shell.execute_reply.started": "2022-07-04T10:18:24.760065Z"
    },
    "id": "lyF4LFkxSe2Q",
    "outputId": "3ad4ef8d-ab84-4f39-f8f4-01a6cb02e467"
   },
   "outputs": [
    {
     "name": "stdout",
     "output_type": "stream",
     "text": [
      "train data Encoder input length 15\n",
      "train data Deccoder input length 15\n",
      "train data Deccoder output length 15\n"
     ]
    }
   ],
   "source": [
    "print(\"train data Encoder input length {}\".format(train_Encoder_input.shape[1]))\n",
    "print(\"train data Deccoder input length {}\".format(train_Decoder_input.shape[1]))\n",
    "print(\"train data Deccoder output length {}\".format(train_Decoder_output.shape[1]))"
   ]
  },
  {
   "cell_type": "code",
   "execution_count": 24,
   "metadata": {
    "colab": {
     "base_uri": "https://localhost:8080/"
    },
    "execution": {
     "iopub.execute_input": "2022-07-04T10:18:24.771417Z",
     "iopub.status.busy": "2022-07-04T10:18:24.770646Z",
     "iopub.status.idle": "2022-07-04T10:18:24.779864Z",
     "shell.execute_reply": "2022-07-04T10:18:24.778471Z",
     "shell.execute_reply.started": "2022-07-04T10:18:24.771382Z"
    },
    "id": "y4i-ZRSmSe2Q",
    "outputId": "63a222db-8583-4355-9b65-2dc1a95960e8"
   },
   "outputs": [
    {
     "name": "stdout",
     "output_type": "stream",
     "text": [
      "test data Encoder input length 15\n",
      "test data Deccoder input length 15\n",
      "test data Deccoder output length 15\n"
     ]
    }
   ],
   "source": [
    "print(\"test data Encoder input length {}\".format(test_Encoder_input.shape[1]))\n",
    "print(\"test data Deccoder input length {}\".format(test_Decoder_input.shape[1]))\n",
    "print(\"test data Deccoder output length {}\".format(test_Decoder_output.shape[1]))"
   ]
  },
  {
   "cell_type": "code",
   "execution_count": 31,
   "metadata": {
    "execution": {
     "iopub.execute_input": "2022-07-04T10:18:24.782656Z",
     "iopub.status.busy": "2022-07-04T10:18:24.781650Z",
     "iopub.status.idle": "2022-07-04T10:18:24.798307Z",
     "shell.execute_reply": "2022-07-04T10:18:24.797326Z",
     "shell.execute_reply.started": "2022-07-04T10:18:24.782563Z"
    },
    "id": "68S5pKLomN7x"
   },
   "outputs": [],
   "source": [
    "#To decode the sentences we will need to create the reverse features dictionary that stores index as a key and word as a value.\n",
    "# Creating the dictiionary with output vocab words Reverse\n",
    "target_token_index=Dec_Tokenizer_target.word_index\n",
    "reverse_target_char_index = dict((i, word) for word, i in target_token_index.items())"
   ]
  },
  {
   "cell_type": "code",
   "execution_count": 32,
   "metadata": {
    "colab": {
     "base_uri": "https://localhost:8080/",
     "height": 35
    },
    "execution": {
     "iopub.execute_input": "2022-07-04T10:18:24.801285Z",
     "iopub.status.busy": "2022-07-04T10:18:24.799964Z",
     "iopub.status.idle": "2022-07-04T10:18:24.810711Z",
     "shell.execute_reply": "2022-07-04T10:18:24.809641Z",
     "shell.execute_reply.started": "2022-07-04T10:18:24.801188Z"
    },
    "id": "3VmPar-vmlBA",
    "outputId": "ff88779f-85cf-4ae0-d26f-603a49ccacb0"
   },
   "outputs": [
    {
     "data": {
      "application/vnd.google.colaboratory.intrinsic+json": {
       "type": "string"
      },
      "text/plain": [
       "'i'"
      ]
     },
     "execution_count": 32,
     "metadata": {},
     "output_type": "execute_result"
    }
   ],
   "source": [
    "reverse_target_char_index[2]"
   ]
  },
  {
   "cell_type": "markdown",
   "metadata": {
    "id": "DsBOWvjldlaE"
   },
   "source": [
    "###Model-Bidirectional LSTM Encoder layer"
   ]
  },
  {
   "cell_type": "code",
   "execution_count": 33,
   "metadata": {
    "execution": {
     "iopub.execute_input": "2022-07-04T10:27:01.833543Z",
     "iopub.status.busy": "2022-07-04T10:27:01.833196Z",
     "iopub.status.idle": "2022-07-04T10:27:01.839875Z",
     "shell.execute_reply": "2022-07-04T10:27:01.838492Z",
     "shell.execute_reply.started": "2022-07-04T10:27:01.833512Z"
    },
    "id": "dlVt9c8firJd"
   },
   "outputs": [],
   "source": [
    "# defining some vairable like embedding size , number of gru or lstm units batch size and epochs we are going to run to train the model\n",
    "embedding_dim=100    \n",
    "latent_dim= 100      \n",
    "batch_size=128      \n",
    "epochs = 15"
   ]
  },
  {
   "cell_type": "code",
   "execution_count": 34,
   "metadata": {
    "colab": {
     "base_uri": "https://localhost:8080/"
    },
    "execution": {
     "iopub.execute_input": "2022-07-04T10:27:10.918377Z",
     "iopub.status.busy": "2022-07-04T10:27:10.918020Z",
     "iopub.status.idle": "2022-07-04T10:27:11.579248Z",
     "shell.execute_reply": "2022-07-04T10:27:11.578165Z",
     "shell.execute_reply.started": "2022-07-04T10:27:10.918347Z"
    },
    "id": "baZfYwTbazAP",
    "outputId": "e4659883-ec80-437e-9a5a-f07d3370e9bd"
   },
   "outputs": [
    {
     "name": "stdout",
     "output_type": "stream",
     "text": [
      "Model: \"model\"\n",
      "__________________________________________________________________________________________________\n",
      " Layer (type)                   Output Shape         Param #     Connected to                     \n",
      "==================================================================================================\n",
      " input_1 (InputLayer)           [(None, 15)]         0           []                               \n",
      "                                                                                                  \n",
      " embedding (Embedding)          (None, 15, 100)      8557600     ['input_1[0][0]']                \n",
      "                                                                                                  \n",
      " input_2 (InputLayer)           [(None, None)]       0           []                               \n",
      "                                                                                                  \n",
      " bidirectional (Bidirectional)  [(None, 15, 200),    160800      ['embedding[0][0]']              \n",
      "                                 (None, 100),                                                     \n",
      "                                 (None, 100),                                                     \n",
      "                                 (None, 100),                                                     \n",
      "                                 (None, 100)]                                                     \n",
      "                                                                                                  \n",
      " embedding_1 (Embedding)        (None, None, 100)    10000       ['input_2[0][0]']                \n",
      "                                                                                                  \n",
      " concatenate (Concatenate)      (None, 200)          0           ['bidirectional[0][1]',          \n",
      "                                                                  'bidirectional[0][3]']          \n",
      "                                                                                                  \n",
      " concatenate_1 (Concatenate)    (None, 200)          0           ['bidirectional[0][2]',          \n",
      "                                                                  'bidirectional[0][4]']          \n",
      "                                                                                                  \n",
      " lstm_1 (LSTM)                  [(None, None, 200),  240800      ['embedding_1[0][0]',            \n",
      "                                 (None, 200),                     'concatenate[0][0]',            \n",
      "                                 (None, 200)]                     'concatenate_1[0][0]']          \n",
      "                                                                                                  \n",
      " dense (Dense)                  (None, None, 85596)  17204796    ['lstm_1[0][0]']                 \n",
      "                                                                                                  \n",
      "==================================================================================================\n",
      "Total params: 26,173,996\n",
      "Trainable params: 26,173,996\n",
      "Non-trainable params: 0\n",
      "__________________________________________________________________________________________________\n"
     ]
    }
   ],
   "source": [
    "# Bidirectional LSTM Encoder layer\n",
    "encoder_in_layer = tf.keras.layers.Input(shape=(train_Encoder_input.shape[1],))\n",
    "\n",
    "encoder_embedding = tf.keras.layers.Embedding(input_dim=input_vocab, output_dim=embedding_dim)\n",
    "\n",
    "encoder_bi_lstm = tf.keras.layers.Bidirectional(tf.keras.layers.LSTM(units=latent_dim, return_sequences=True, return_state=True))\n",
    "\n",
    "# Discard the encoder output and use hidden states (h) and cell stata(c) both forward and backward\n",
    "encoder_out,fstate_h,fstate_c, bstate_h,bstate_c= encoder_bi_lstm(encoder_embedding(encoder_in_layer))\n",
    "\n",
    "state_h = tf.keras.layers.Concatenate()([fstate_h,bstate_h])\n",
    "state_c = tf.keras.layers.Concatenate()([fstate_c,bstate_c])\n",
    "Final_encoder_states = [state_h, state_c]\n",
    "\n",
    "\n",
    "# LTSM Decoder layer\n",
    "decoder_in_layer = tf.keras.layers.Input(shape=(None,))\n",
    "\n",
    "decoder_embedding = tf.keras.layers.Embedding(input_dim=100, output_dim=embedding_dim)\n",
    "\n",
    "decoder_lstm = tf.keras.layers.LSTM(units=latent_dim*2, return_sequences=True, return_state=True)\n",
    "\n",
    "# Discard internal states in training, keep only the output sequence\n",
    "decoder_out, _,_ = decoder_lstm(decoder_embedding(decoder_in_layer), initial_state=Final_encoder_states)\n",
    "\n",
    "decoder_dense = tf.keras.layers.Dense(output_vocab, activation=\"softmax\")\n",
    "\n",
    "decoder_out_layer = decoder_dense(decoder_out)\n",
    "\n",
    "# Define the model that uses the Encoder and the Decoder\n",
    "model = tf.keras.models.Model([encoder_in_layer, decoder_in_layer], decoder_out_layer)\n",
    "\n",
    "model.compile(optimizer='adam', loss=\"sparse_categorical_crossentropy\")\n",
    "\n",
    "model.summary()"
   ]
  },
  {
   "cell_type": "code",
   "execution_count": 36,
   "metadata": {
    "colab": {
     "base_uri": "https://localhost:8080/",
     "height": 479
    },
    "execution": {
     "iopub.execute_input": "2022-07-04T10:27:13.656472Z",
     "iopub.status.busy": "2022-07-04T10:27:13.656126Z",
     "iopub.status.idle": "2022-07-04T10:27:13.898871Z",
     "shell.execute_reply": "2022-07-04T10:27:13.897705Z",
     "shell.execute_reply.started": "2022-07-04T10:27:13.656443Z"
    },
    "id": "AkylnwRw4-Ak",
    "outputId": "1d9ee2d9-6b56-4875-aa16-f4ecfe48b005"
   },
   "outputs": [
    {
     "data": {
      "image/png": "[encoded data removed]",
      "text/plain": [
       "<IPython.core.display.Image object>"
      ]
     },
     "execution_count": 36,
     "metadata": {},
     "output_type": "execute_result"
    }
   ],
   "source": [
    "# summarize the model\n",
    "from tensorflow.keras.utils import plot_model\n",
    "plot_model(model, 'model.png', show_shapes=True)"
   ]
  },
  {
   "cell_type": "code",
   "execution_count": 37,
   "metadata": {
    "colab": {
     "base_uri": "https://localhost:8080/"
    },
    "execution": {
     "iopub.execute_input": "2022-07-04T10:27:16.356361Z",
     "iopub.status.busy": "2022-07-04T10:27:16.355985Z",
     "iopub.status.idle": "2022-07-04T10:31:54.979010Z",
     "shell.execute_reply": "2022-07-04T10:31:54.978023Z",
     "shell.execute_reply.started": "2022-07-04T10:27:16.356322Z"
    },
    "id": "vbs4L5Z96j7H",
    "outputId": "d76a9a37-037b-45d9-9d62-f8e2a4c046b1"
   },
   "outputs": [
    {
     "name": "stdout",
     "output_type": "stream",
     "text": [
      "Epoch 1/18\n",
      "1460/1460 [==============================] - 199s 130ms/step - loss: 3.8899 - val_loss: 3.3223\n",
      "Epoch 2/18\n",
      "1460/1460 [==============================] - 194s 133ms/step - loss: 3.3385 - val_loss: 3.1978\n",
      "Epoch 3/18\n",
      "1460/1460 [==============================] - 194s 133ms/step - loss: 3.2166 - val_loss: 3.1480\n",
      "Epoch 4/18\n",
      "1460/1460 [==============================] - 194s 133ms/step - loss: 3.1329 - val_loss: 3.1273\n",
      "Epoch 5/18\n",
      "1460/1460 [==============================] - 194s 133ms/step - loss: 3.0625 - val_loss: 3.1237\n",
      "Epoch 6/18\n",
      "1460/1460 [==============================] - 194s 133ms/step - loss: 2.9984 - val_loss: 3.1303\n",
      "Epoch 7/18\n",
      "1460/1460 [==============================] - 194s 133ms/step - loss: 2.9384 - val_loss: 3.1477\n",
      "Epoch 8/18\n",
      "1460/1460 [==============================] - 194s 133ms/step - loss: 2.8808 - val_loss: 3.1713\n",
      "Epoch 9/18\n",
      "1460/1460 [==============================] - 195s 133ms/step - loss: 2.8255 - val_loss: 3.1958\n",
      "Epoch 10/18\n",
      "1460/1460 [==============================] - 194s 133ms/step - loss: 2.7725 - val_loss: 3.2286\n",
      "Epoch 11/18\n",
      "1460/1460 [==============================] - 195s 133ms/step - loss: 2.7215 - val_loss: 3.2581\n",
      "Epoch 12/18\n",
      "1460/1460 [==============================] - 195s 133ms/step - loss: 2.6722 - val_loss: 3.2920\n",
      "Epoch 13/18\n",
      "1460/1460 [==============================] - 195s 133ms/step - loss: 2.6247 - val_loss: 3.3228\n",
      "Epoch 14/18\n",
      "1460/1460 [==============================] - 194s 133ms/step - loss: 2.5791 - val_loss: 3.3601\n",
      "Epoch 15/18\n",
      "1460/1460 [==============================] - 195s 133ms/step - loss: 2.5354 - val_loss: 3.3955\n",
      "Epoch 16/18\n",
      "1460/1460 [==============================] - 194s 133ms/step - loss: 2.4936 - val_loss: 3.4265\n",
      "Epoch 17/18\n",
      "1460/1460 [==============================] - 195s 133ms/step - loss: 2.4542 - val_loss: 3.4563\n",
      "Epoch 18/18\n",
      "1460/1460 [==============================] - 194s 133ms/step - loss: 2.4161 - val_loss: 3.4952\n"
     ]
    }
   ],
   "source": [
    "history2 = model.fit([train_Encoder_input, train_Decoder_input], train_Decoder_output,\n",
    "                 batch_size=batch_size,\n",
    "                 epochs=epochs,\n",
    "                 validation_data=([test_Encoder_input,test_Decoder_input],test_Decoder_output))"
   ]
  },
  {
   "cell_type": "code",
   "execution_count": 38,
   "metadata": {
    "execution": {
     "iopub.execute_input": "2022-07-04T10:32:35.649378Z",
     "iopub.status.busy": "2022-07-04T10:32:35.648657Z",
     "iopub.status.idle": "2022-07-04T10:32:35.835699Z",
     "shell.execute_reply": "2022-07-04T10:32:35.834701Z",
     "shell.execute_reply.started": "2022-07-04T10:32:35.649342Z"
    },
    "id": "x8XJwgeESe2W"
   },
   "outputs": [],
   "source": [
    "# Inference Decoder\n",
    "encoder_model = tf.keras.models.Model(encoder_in_layer, Final_encoder_states)\n",
    "\n",
    "state_input_h = tf.keras.layers.Input(shape=(latent_dim*2,))\n",
    "state_input_c = tf.keras.layers.Input(shape=(latent_dim*2,))\n",
    "state_input = [state_input_h, state_input_c]\n",
    "decoder_out, decoder_h,decoder_c = decoder_lstm(decoder_embedding(decoder_in_layer), initial_state=state_input)\n",
    "decoder_states2 = [decoder_h, decoder_c]\n",
    "decoder_out = decoder_dense(decoder_out)\n",
    "decoder_model = tf.keras.models.Model(inputs=[decoder_in_layer, state_input], \n",
    "                  outputs=[decoder_out,decoder_states2])"
   ]
  },
  {
   "cell_type": "code",
   "execution_count": 39,
   "metadata": {
    "execution": {
     "iopub.execute_input": "2022-07-04T10:32:36.869342Z",
     "iopub.status.busy": "2022-07-04T10:32:36.868647Z",
     "iopub.status.idle": "2022-07-04T10:32:36.880276Z",
     "shell.execute_reply": "2022-07-04T10:32:36.879281Z",
     "shell.execute_reply.started": "2022-07-04T10:32:36.869305Z"
    },
    "id": "9lTCGt6GSe2W"
   },
   "outputs": [],
   "source": [
    "def decode_sequence2(input_seq):\n",
    "    '''this function will predict the next words sequences given the input sequences'''\n",
    "    if input_seq.split(' ')[0] != '<start>' and input_seq.split(' ')[-1] != '<end>':\n",
    "        input_seq = '<start>'+ ' ' + input_seq + ' ' + '<end>'\n",
    "    \n",
    "    #print(\"input seq\",input_seq)\n",
    "    input_seq = Enc_Tokenizer.texts_to_sequences([str(input_seq)])\n",
    "    input_seq = pad_sequences(input_seq, padding=\"post\",maxlen= 15)\n",
    "    \n",
    "     # Encode the input as state vectors.\n",
    "    state = encoder_model.predict(input_seq)\n",
    "    target_seq = np.zeros((1, 1))\n",
    "    target_seq[0, 0] = Dec_Tokenizer.word_index['<start>']\n",
    "    \n",
    "    # Encode the input as state vectors.\n",
    "    curr_word = \"<start>\"\n",
    "    decoded_sentence = ''\n",
    "\n",
    "    i = 0\n",
    "    while curr_word != \"<end>\" and i < (15 - 1):\n",
    "        output_tokens, h = decoder_model.predict([target_seq, state])\n",
    "\n",
    "        curr_token = np.argmax(output_tokens[0, 0])\n",
    "\n",
    "        if (curr_token == 0):\n",
    "            break;\n",
    "\n",
    "        curr_word = reverse_target_char_index[curr_token]\n",
    "\n",
    "        decoded_sentence += ' ' + curr_word\n",
    "        target_seq[0, 0] = curr_token\n",
    "        state = h\n",
    "        i += 1\n",
    "    if curr_word != \"<end>\":\n",
    "        decoded_sentence += ' ' + '<end>'\n",
    "    return decoded_sentence"
   ]
  },
  {
   "cell_type": "code",
   "execution_count": 44,
   "metadata": {
    "execution": {
     "iopub.execute_input": "2022-07-04T10:35:18.556792Z",
     "iopub.status.busy": "2022-07-04T10:35:18.556422Z",
     "iopub.status.idle": "2022-07-04T10:35:18.565088Z",
     "shell.execute_reply": "2022-07-04T10:35:18.564064Z",
     "shell.execute_reply.started": "2022-07-04T10:35:18.556762Z"
    },
    "id": "n3JswwcySe2X"
   },
   "outputs": [],
   "source": [
    "sample = df.sample(10)"
   ]
  },
  {
   "cell_type": "code",
   "execution_count": 45,
   "metadata": {
    "colab": {
     "base_uri": "https://localhost:8080/"
    },
    "execution": {
     "iopub.execute_input": "2022-07-04T10:34:20.241142Z",
     "iopub.status.busy": "2022-07-04T10:34:20.240662Z",
     "iopub.status.idle": "2022-07-04T10:34:23.167088Z",
     "shell.execute_reply": "2022-07-04T10:34:23.166124Z",
     "shell.execute_reply.started": "2022-07-04T10:34:20.241104Z"
    },
    "id": "-Qn86pqMSe2X",
    "outputId": "875b8570-cfce-4001-acdb-671e1c0ce400"
   },
   "outputs": [
    {
     "name": "stdout",
     "output_type": "stream",
     "text": [
      "Input ----> <start>  she is dead is not she? <end>\n",
      "Output ----> <start>  yes.\n",
      "Predict ---->  she is a good man. <end>\n",
      "====================================================================================================\n",
      "Input ----> <start>  sorry. we were saying? <end>\n",
      "Output ----> <start>  you broke that idiot's jaw for no reason other than your boredom. tell the truth, roland. are not you even interested in knowing this expeditiongs quarry?\n",
      "Predict ---->  i am not a traitor. <end>\n",
      "====================================================================================================\n",
      "Input ----> <start>  that was a mistake. the rain on my car is a baptism. the new me. iceman, power lloyd. my assault on the world begins now. believe in myself, answer to no one. you probably got it all figured out, corey. if you start out depressed, everything's kind of a pleasant surprise. <end>\n",
      "Output ----> <start>  look, why do not you just call diane again?\n",
      "Predict ---->  but i am not sure of a bitch. watcher. huh <end>\n",
      "====================================================================================================\n",
      "Input ----> <start>  i believe we are being called to dinner. <end>\n",
      "Output ----> <start>  finally!\n",
      "Predict ---->  what do you mean? <end>\n",
      "====================================================================================================\n",
      "Input ----> <start>  red rum. <end>\n",
      "Output ----> <start>  danny. that is the matter, hon?\n",
      "Predict ---->  you are not going to be fine. <end>\n",
      "====================================================================================================\n",
      "Input ----> <start>  no, no! i like girls. so how about friday? <end>\n",
      "Output ----> <start>  look, you seem like a nice guy, ed, but you are just not my type. but keep in touch. let me know when your movie opens.\n",
      "Predict ---->  you are not a good man. <end>\n",
      "====================================================================================================\n",
      "Input ----> <start>  hey guys, you came to watch me in action? <end>\n",
      "Output ----> <start>  yeah, i think you sounded pretty good.\n",
      "Predict ---->  yeah, i am a little <end>\n",
      "====================================================================================================\n",
      "Input ----> <start>  a travesty. huh. that is interesting, because i think you did it. <end>\n",
      "Output ----> <start>  wait are you accusing me? you are not serious. i cannot. mr. mcallister, we have worked together on sga for three solid years and. i mean, i cannot believe it. i am. i am shocked!\n",
      "Predict ---->  no i am not going to tell you. <end>\n",
      "====================================================================================================\n",
      "Input ----> <start>  if he pushes too deep into our boy's mind set, he may destroy himself. what are you planning, jack? <end>\n",
      "Output ----> <start>  could he handle a direct contact?\n",
      "Predict ---->  he is a good worker, <end>\n",
      "====================================================================================================\n",
      "Input ----> <start>  yeah, i understand, tommy. <end>\n",
      "Output ----> <start>  all right, you guys, shake hands.\n",
      "Predict ---->  okay. okay. <end>\n",
      "====================================================================================================\n"
     ]
    }
   ],
   "source": [
    "for i in range(10):\n",
    "    print('Input ---->' , sample[\"Encoder_input\"].iloc[i])\n",
    "    print('Output ---->' , sample[\"Decoder_inputs\"].iloc[i])\n",
    "    print('Predict ---->', decode_sequence2(sample[\"Encoder_input\"].iloc[i]))\n",
    "    print('=='*50)"
   ]
  },
  {
   "cell_type": "code",
   "execution_count": null,
   "metadata": {
    "id": "9g2qeTSindai"
   },
   "outputs": [],
   "source": []
  }
 ],
 "metadata": {
  "accelerator": "GPU",
  "colab": {
   "collapsed_sections": [],
   "name": "movie-text-based-chat-bot.ipynb",
   "provenance": []
  },
  "gpuClass": "standard",
  "kernelspec": {
   "display_name": "Python 3",
   "language": "python",
   "name": "python3"
  },
  "language_info": {
   "codemirror_mode": {
    "name": "ipython",
    "version": 3
   },
   "file_extension": ".py",
   "mimetype": "text/x-python",
   "name": "python",
   "nbconvert_exporter": "python",
   "pygments_lexer": "ipython3",
   "version": "3.8.12"
  }
 },
 "nbformat": 4,
 "nbformat_minor": 1
}
